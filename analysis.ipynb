{
 "cells": [
  {
   "cell_type": "code",
   "execution_count": 1,
   "id": "72c5c0bc",
   "metadata": {},
   "outputs": [],
   "source": [
    "import matplotlib.pyplot as plt\n",
    "import matplotlib._color_data as mcd\n",
    "import matplotlib as mpl\n",
    "import seaborn as sns\n",
    "import matplotlib.gridspec as gridspec\n",
    "import pandas as pd\n",
    "import numpy as np\n",
    "import re\n",
    "import math   \n",
    "from scipy import stats\n",
    "import random\n",
    "import pickle"
   ]
  },
  {
   "cell_type": "code",
   "execution_count": 2,
   "id": "6390cad8",
   "metadata": {},
   "outputs": [],
   "source": [
    "np.random.seed(42)\n",
    "random.seed(42)"
   ]
  },
  {
   "cell_type": "code",
   "execution_count": 3,
   "id": "c4f14ebe",
   "metadata": {},
   "outputs": [],
   "source": [
    "arm_dist_title = 'Arms Distribution={0.2, 0.8}'\n",
    "cost = \"1, in_factor=2, dec_factor=0.5\""
   ]
  },
  {
   "cell_type": "code",
   "execution_count": 4,
   "id": "d3e8b768",
   "metadata": {},
   "outputs": [],
   "source": [
    "df_10k_sim_1_exp_10_tree = pd.read_csv('./records_tests/test_record_10000_sim_1_exp_100_runs_10_tree.csv')\n",
    "df_10k_sim_1_exp_5_tree = pd.read_csv('./records_tests/test_record_10000_sim_1_exp_100_runs_5_tree.csv')\n",
    "df_1k_sim_1_exp_50_tree = pd.read_csv('./records_tests/test_record_1000_sim_1_exp_100_runs_50_tree.csv')\n",
    "df_1k_sim_1_exp_100_tree = pd.read_csv('./records_tests/test_record_1000_sim_1_exp_100_runs_100_tree.csv')\n",
    "df_100_sim_1_exp_50_tree = pd.read_csv('./records_tests/test_record_100_sim_1_exp_100_runs_50_tree.csv')\n",
    "\n",
    "df_50_sim_1_exp_300_tree = pd.read_csv('./records_tests/test_record_50_sim_1_exp_100_runs_300_tree.csv')\n",
    "df_100_sim_1_exp_200_tree = pd.read_csv('./records_tests/test_record_100_sim_1_exp_100_runs_200_tree.csv')\n",
    "df_1k_sim_1_exp_500_tree = pd.read_csv('./records_tests/test_record_1000_sim_1_exp_100_runs_500_tree.csv')\n",
    "\n",
    "df_1k_sim_1_exp_20_tree = pd.read_csv('./records_tests/test_record_1000_sim_1_exp_100_runs_20_tree.csv')\n",
    "df_1k_sim_100_exp_50_tree = pd.read_csv('./records_tests/test_record_1000_sim_100_exp_100_runs_50_tree.csv')\n",
    "\n",
    "df_1k_sim_1_exp_10_tree = pd.read_csv('./records_tests/test_record_1000_sim_1_exp_100_runs_10_tree.csv')\n",
    "df_10k_sim_1_exp_20_tree = pd.read_csv('./records_tests/test_record_10000_sim_1_exp_100_runs_20_tree.csv')"
   ]
  },
  {
   "cell_type": "markdown",
   "id": "c3d0aea3",
   "metadata": {},
   "source": [
    "**Checking query probability**"
   ]
  },
  {
   "cell_type": "code",
   "execution_count": 5,
   "id": "d55ac499",
   "metadata": {},
   "outputs": [
    {
     "data": {
      "text/plain": [
       "1.0    49998\n",
       "2.0        2\n",
       "Name: query_cost, dtype: int64"
      ]
     },
     "execution_count": 5,
     "metadata": {},
     "output_type": "execute_result"
    }
   ],
   "source": [
    "df_10k_sim_1_exp_10_tree.query_cost.value_counts()"
   ]
  },
  {
   "cell_type": "code",
   "execution_count": 6,
   "id": "8f8aec0e",
   "metadata": {},
   "outputs": [
    {
     "data": {
      "text/plain": [
       "1.0    50000\n",
       "Name: query_cost, dtype: int64"
      ]
     },
     "execution_count": 6,
     "metadata": {},
     "output_type": "execute_result"
    }
   ],
   "source": [
    "df_10k_sim_1_exp_5_tree.query_cost.value_counts()"
   ]
  },
  {
   "cell_type": "code",
   "execution_count": 7,
   "id": "43d2dc9e",
   "metadata": {},
   "outputs": [
    {
     "data": {
      "text/plain": [
       "1.0    49951\n",
       "2.0       47\n",
       "4.0        2\n",
       "Name: query_cost, dtype: int64"
      ]
     },
     "execution_count": 7,
     "metadata": {},
     "output_type": "execute_result"
    }
   ],
   "source": [
    "df_1k_sim_1_exp_50_tree.query_cost.value_counts()"
   ]
  },
  {
   "cell_type": "code",
   "execution_count": 5,
   "id": "f63c97d6",
   "metadata": {},
   "outputs": [
    {
     "data": {
      "text/plain": [
       "1.0    49916\n",
       "2.0       81\n",
       "4.0        3\n",
       "Name: query_cost, dtype: int64"
      ]
     },
     "execution_count": 5,
     "metadata": {},
     "output_type": "execute_result"
    }
   ],
   "source": [
    "df_1k_sim_1_exp_100_tree.query_cost.value_counts()"
   ]
  },
  {
   "cell_type": "code",
   "execution_count": 8,
   "id": "52fd5d8f",
   "metadata": {},
   "outputs": [
    {
     "data": {
      "text/plain": [
       "1.0    49941\n",
       "2.0       57\n",
       "4.0        2\n",
       "Name: query_cost, dtype: int64"
      ]
     },
     "execution_count": 8,
     "metadata": {},
     "output_type": "execute_result"
    }
   ],
   "source": [
    "df_100_sim_1_exp_50_tree.query_cost.value_counts()"
   ]
  },
  {
   "cell_type": "code",
   "execution_count": 6,
   "id": "6427f87a",
   "metadata": {},
   "outputs": [
    {
     "data": {
      "text/plain": [
       "1.0    48314\n",
       "2.0     1654\n",
       "4.0       31\n",
       "8.0        1\n",
       "Name: query_cost, dtype: int64"
      ]
     },
     "execution_count": 6,
     "metadata": {},
     "output_type": "execute_result"
    }
   ],
   "source": [
    "df_50_sim_1_exp_300_tree.query_cost.value_counts()"
   ]
  },
  {
   "cell_type": "code",
   "execution_count": 7,
   "id": "5890a9a6",
   "metadata": {},
   "outputs": [
    {
     "data": {
      "text/plain": [
       "1.0    49670\n",
       "2.0      314\n",
       "4.0       14\n",
       "8.0        2\n",
       "Name: query_cost, dtype: int64"
      ]
     },
     "execution_count": 7,
     "metadata": {},
     "output_type": "execute_result"
    }
   ],
   "source": [
    "df_100_sim_1_exp_200_tree.query_cost.value_counts()"
   ]
  },
  {
   "cell_type": "code",
   "execution_count": 5,
   "id": "4a414407",
   "metadata": {},
   "outputs": [
    {
     "data": {
      "text/plain": [
       "1.0    49572\n",
       "2.0      412\n",
       "4.0       15\n",
       "8.0        1\n",
       "Name: query_cost, dtype: int64"
      ]
     },
     "execution_count": 5,
     "metadata": {},
     "output_type": "execute_result"
    }
   ],
   "source": [
    "df_1k_sim_1_exp_500_tree.query_cost.value_counts()"
   ]
  },
  {
   "cell_type": "code",
   "execution_count": 5,
   "id": "b19dbf87",
   "metadata": {},
   "outputs": [
    {
     "data": {
      "text/plain": [
       "1.0    49991\n",
       "2.0        9\n",
       "Name: query_cost, dtype: int64"
      ]
     },
     "execution_count": 5,
     "metadata": {},
     "output_type": "execute_result"
    }
   ],
   "source": [
    "df_1k_sim_1_exp_20_tree.query_cost.value_counts()"
   ]
  },
  {
   "cell_type": "code",
   "execution_count": 6,
   "id": "bb2bfc70",
   "metadata": {},
   "outputs": [
    {
     "data": {
      "text/plain": [
       "1.0    49992\n",
       "2.0        8\n",
       "Name: query_cost, dtype: int64"
      ]
     },
     "execution_count": 6,
     "metadata": {},
     "output_type": "execute_result"
    }
   ],
   "source": [
    "df_1k_sim_100_exp_50_tree.query_cost.value_counts()"
   ]
  },
  {
   "cell_type": "code",
   "execution_count": 5,
   "id": "aa63bc2f",
   "metadata": {},
   "outputs": [
    {
     "data": {
      "text/plain": [
       "1.0    49998\n",
       "2.0        2\n",
       "Name: query_cost, dtype: int64"
      ]
     },
     "execution_count": 5,
     "metadata": {},
     "output_type": "execute_result"
    }
   ],
   "source": [
    "df_1k_sim_1_exp_10_tree.query_cost.value_counts()"
   ]
  },
  {
   "cell_type": "code",
   "execution_count": 5,
   "id": "2462541d",
   "metadata": {},
   "outputs": [
    {
     "data": {
      "text/plain": [
       "1.0    49991\n",
       "2.0        9\n",
       "Name: query_cost, dtype: int64"
      ]
     },
     "execution_count": 5,
     "metadata": {},
     "output_type": "execute_result"
    }
   ],
   "source": [
    "df_10k_sim_1_exp_20_tree.query_cost.value_counts()"
   ]
  },
  {
   "cell_type": "code",
   "execution_count": 6,
   "id": "3c66b771",
   "metadata": {},
   "outputs": [
    {
     "data": {
      "text/plain": [
       "<AxesSubplot:xlabel='timestep'>"
      ]
     },
     "execution_count": 6,
     "metadata": {},
     "output_type": "execute_result"
    },
    {
     "data": {
      "image/png": "[encoded data removed]",
      "text/plain": [
       "<Figure size 432x288 with 1 Axes>"
      ]
     },
     "metadata": {
      "needs_background": "light"
     },
     "output_type": "display_data"
    }
   ],
   "source": [
    "df_1k_sim_1_exp_500_tree.groupby(by=['timestep']).mean()['query_ind'].plot()"
   ]
  },
  {
   "cell_type": "markdown",
   "id": "d4805e62",
   "metadata": {},
   "source": [
    "### Looks like almost no querying at all \\\n",
    "## Maybe there is an information leakage to MCTS??"
   ]
  },
  {
   "cell_type": "code",
   "execution_count": 7,
   "id": "848cbbec",
   "metadata": {},
   "outputs": [],
   "source": [
    "random_runs = np.random.choice(a=np.array(range(100)), replace=False, size=(30))"
   ]
  },
  {
   "cell_type": "markdown",
   "id": "75ac5dd6",
   "metadata": {},
   "source": [
    "**Sanity check: Check no overlap runs**"
   ]
  },
  {
   "cell_type": "code",
   "execution_count": 8,
   "id": "45d45af5",
   "metadata": {},
   "outputs": [
    {
     "data": {
      "text/plain": [
       "(30,)"
      ]
     },
     "execution_count": 8,
     "metadata": {},
     "output_type": "execute_result"
    }
   ],
   "source": [
    "random_runs.shape"
   ]
  },
  {
   "cell_type": "code",
   "execution_count": 9,
   "id": "fca45f0c",
   "metadata": {},
   "outputs": [
    {
     "data": {
      "text/plain": [
       "30"
      ]
     },
     "execution_count": 9,
     "metadata": {},
     "output_type": "execute_result"
    }
   ],
   "source": [
    "len(set(random_runs))"
   ]
  },
  {
   "cell_type": "code",
   "execution_count": 10,
   "id": "e17a3b02",
   "metadata": {},
   "outputs": [
    {
     "data": {
      "text/plain": [
       "(30,)"
      ]
     },
     "execution_count": 10,
     "metadata": {},
     "output_type": "execute_result"
    }
   ],
   "source": [
    "df = df_10k_sim_1_exp_10_tree[df_10k_sim_1_exp_10_tree['run'].isin(random_runs)]\n",
    "df.run.unique().shape"
   ]
  },
  {
   "cell_type": "code",
   "execution_count": 11,
   "id": "4f298d7f",
   "metadata": {},
   "outputs": [],
   "source": [
    "df_2 = df_10k_sim_1_exp_10_tree[df_10k_sim_1_exp_5_tree['run'].isin(random_runs)]\n",
    "df_3 = df_1k_sim_1_exp_50_tree[df_1k_sim_1_exp_50_tree['run'].isin(random_runs)]\n",
    "df_4 = df_1k_sim_1_exp_100_tree[df_1k_sim_1_exp_100_tree['run'].isin(random_runs)]\n",
    "df_5 = df_100_sim_1_exp_50_tree[df_100_sim_1_exp_50_tree['run'].isin(random_runs)]\n",
    "\n",
    "df_6 = df_50_sim_1_exp_300_tree[df_100_sim_1_exp_50_tree['run'].isin(random_runs)]\n",
    "df_7 = df_100_sim_1_exp_200_tree[df_100_sim_1_exp_50_tree['run'].isin(random_runs)]\n",
    "df_8 = df_1k_sim_1_exp_500_tree[df_100_sim_1_exp_50_tree['run'].isin(random_runs)]\n"
   ]
  },
  {
   "cell_type": "markdown",
   "id": "5a037c37",
   "metadata": {},
   "source": [
    "### Avg. Reward per Timestep"
   ]
  },
  {
   "cell_type": "code",
   "execution_count": 12,
   "id": "922b888e",
   "metadata": {},
   "outputs": [
    {
     "data": {
      "image/png": "[encoded data removed]",
      "text/plain": [
       "<Figure size 432x288 with 1 Axes>"
      ]
     },
     "metadata": {
      "needs_background": "light"
     },
     "output_type": "display_data"
    }
   ],
   "source": [
    "ax = df.groupby(['timestep']).mean()['reward'].expanding().sum().plot(\n",
    "        title='Avg. Reward per Step\\n10K Simulations, 30 Random Runs, delayed tree expansion=10', xlabel='Step', ylabel='Avg. Reward', label='U=1')\n",
    "df_2.groupby(['timestep']).mean()['reward'].expanding().sum().plot(ax=ax, label='U=1,d=5')\n",
    "df_3.groupby(['timestep']).mean()['reward'].expanding().sum().plot(ax=ax, label='U=1,d=50,Sim=1K')\n",
    "df_4.groupby(['timestep']).mean()['reward'].expanding().sum().plot(ax=ax, label='U=1,d=100,Sim=1K')\n",
    "df_5.groupby(['timestep']).mean()['reward'].expanding().sum().plot(ax=ax, label='U=1,d=50,Sim=100')\n",
    "\n",
    "df_6.groupby(['timestep']).mean()['reward'].expanding().sum().plot(ax=ax, label='U=1,d=300,Sim=50')\n",
    "df_7.groupby(['timestep']).mean()['reward'].expanding().sum().plot(ax=ax, label='U=1,d=200,Sim=100')\n",
    "df_8.groupby(['timestep']).mean()['reward'].expanding().sum().plot(ax=ax, label='U=1,d=500,Sim=1K')\n",
    "\n",
    "ax.legend()\n",
    "plt.show()"
   ]
  },
  {
   "cell_type": "markdown",
   "id": "fca0d466",
   "metadata": {},
   "source": [
    "## Check arms convergence"
   ]
  },
  {
   "cell_type": "code",
   "execution_count": 14,
   "id": "78e54ef4",
   "metadata": {
    "scrolled": true
   },
   "outputs": [
    {
     "data": {
      "text/plain": [
       "1.0    54\n",
       "0.0    46\n",
       "Name: chosen_arm, dtype: int64"
      ]
     },
     "execution_count": 14,
     "metadata": {},
     "output_type": "execute_result"
    }
   ],
   "source": [
    "df_10k_sim_1_exp_10_tree.groupby('run').mean()['chosen_arm'].round(0).value_counts()"
   ]
  },
  {
   "cell_type": "code",
   "execution_count": 15,
   "id": "7ad15da3",
   "metadata": {},
   "outputs": [
    {
     "data": {
      "text/plain": [
       "1.0    52\n",
       "0.0    48\n",
       "Name: chosen_arm, dtype: int64"
      ]
     },
     "execution_count": 15,
     "metadata": {},
     "output_type": "execute_result"
    }
   ],
   "source": [
    "df_10k_sim_1_exp_5_tree.groupby('run').mean()['chosen_arm'].round(0).value_counts()"
   ]
  },
  {
   "cell_type": "code",
   "execution_count": 16,
   "id": "cb668c48",
   "metadata": {},
   "outputs": [
    {
     "data": {
      "text/plain": [
       "0.0    57\n",
       "1.0    43\n",
       "Name: chosen_arm, dtype: int64"
      ]
     },
     "execution_count": 16,
     "metadata": {},
     "output_type": "execute_result"
    }
   ],
   "source": [
    "df_1k_sim_1_exp_50_tree.groupby('run').mean()['chosen_arm'].round(0).value_counts()"
   ]
  },
  {
   "cell_type": "code",
   "execution_count": 14,
   "id": "fa9ddaf5",
   "metadata": {},
   "outputs": [
    {
     "data": {
      "text/plain": [
       "0.0    50\n",
       "1.0    50\n",
       "Name: chosen_arm, dtype: int64"
      ]
     },
     "execution_count": 14,
     "metadata": {},
     "output_type": "execute_result"
    }
   ],
   "source": [
    "df_1k_sim_1_exp_100_tree.groupby('run').mean()['chosen_arm'].round(0).value_counts()"
   ]
  },
  {
   "cell_type": "code",
   "execution_count": 17,
   "id": "eb0e3f12",
   "metadata": {},
   "outputs": [
    {
     "data": {
      "text/plain": [
       "0.0    56\n",
       "1.0    44\n",
       "Name: chosen_arm, dtype: int64"
      ]
     },
     "execution_count": 17,
     "metadata": {},
     "output_type": "execute_result"
    }
   ],
   "source": [
    "df_100_sim_1_exp_50_tree.groupby('run').mean()['chosen_arm'].round(0).value_counts()"
   ]
  },
  {
   "cell_type": "code",
   "execution_count": 18,
   "id": "0c6d5dd6",
   "metadata": {},
   "outputs": [
    {
     "data": {
      "text/plain": [
       "1.0    51\n",
       "0.0    49\n",
       "Name: chosen_arm, dtype: int64"
      ]
     },
     "execution_count": 18,
     "metadata": {},
     "output_type": "execute_result"
    }
   ],
   "source": [
    "df_50_sim_1_exp_300_tree.groupby('run').mean()['chosen_arm'].round(0).value_counts()"
   ]
  },
  {
   "cell_type": "code",
   "execution_count": 19,
   "id": "3f73eea4",
   "metadata": {},
   "outputs": [
    {
     "data": {
      "text/plain": [
       "0.0    54\n",
       "1.0    46\n",
       "Name: chosen_arm, dtype: int64"
      ]
     },
     "execution_count": 19,
     "metadata": {},
     "output_type": "execute_result"
    }
   ],
   "source": [
    "df_100_sim_1_exp_200_tree.groupby('run').mean()['chosen_arm'].round(0).value_counts()"
   ]
  },
  {
   "cell_type": "code",
   "execution_count": 15,
   "id": "dc4051fe",
   "metadata": {},
   "outputs": [
    {
     "data": {
      "text/plain": [
       "0.0    50\n",
       "1.0    50\n",
       "Name: chosen_arm, dtype: int64"
      ]
     },
     "execution_count": 15,
     "metadata": {},
     "output_type": "execute_result"
    }
   ],
   "source": [
    "df_1k_sim_1_exp_500_tree.groupby('run').mean()['chosen_arm'].round(0).value_counts()"
   ]
  },
  {
   "cell_type": "code",
   "execution_count": 7,
   "id": "3e91c44b",
   "metadata": {},
   "outputs": [
    {
     "data": {
      "text/plain": [
       "0.0    62\n",
       "1.0    38\n",
       "Name: chosen_arm, dtype: int64"
      ]
     },
     "execution_count": 7,
     "metadata": {},
     "output_type": "execute_result"
    }
   ],
   "source": [
    "df_1k_sim_1_exp_20_tree.groupby('run').mean()['chosen_arm'].round(0).value_counts()"
   ]
  },
  {
   "cell_type": "code",
   "execution_count": 8,
   "id": "277eb4d9",
   "metadata": {},
   "outputs": [
    {
     "data": {
      "text/plain": [
       "0.0    53\n",
       "1.0    47\n",
       "Name: chosen_arm, dtype: int64"
      ]
     },
     "execution_count": 8,
     "metadata": {},
     "output_type": "execute_result"
    }
   ],
   "source": [
    "df_1k_sim_100_exp_50_tree.groupby('run').mean()['chosen_arm'].round(0).value_counts()"
   ]
  },
  {
   "cell_type": "code",
   "execution_count": 6,
   "id": "7365caf6",
   "metadata": {},
   "outputs": [
    {
     "data": {
      "text/plain": [
       "1.0    56\n",
       "0.0    44\n",
       "Name: chosen_arm, dtype: int64"
      ]
     },
     "execution_count": 6,
     "metadata": {},
     "output_type": "execute_result"
    }
   ],
   "source": [
    "df_1k_sim_1_exp_10_tree.groupby('run').mean()['chosen_arm'].round(0).value_counts()"
   ]
  },
  {
   "cell_type": "code",
   "execution_count": 6,
   "id": "9ca405a1",
   "metadata": {},
   "outputs": [
    {
     "data": {
      "text/plain": [
       "0.0    61\n",
       "1.0    39\n",
       "Name: chosen_arm, dtype: int64"
      ]
     },
     "execution_count": 6,
     "metadata": {},
     "output_type": "execute_result"
    }
   ],
   "source": [
    "df_10k_sim_1_exp_20_tree.groupby('run').mean()['chosen_arm'].round(0).value_counts()"
   ]
  },
  {
   "cell_type": "markdown",
   "id": "8fad4a8a",
   "metadata": {},
   "source": [
    "## Avg. Regret"
   ]
  },
  {
   "cell_type": "code",
   "execution_count": 17,
   "id": "ac55afb8",
   "metadata": {},
   "outputs": [
    {
     "data": {
      "image/png": "[encoded data removed]",
      "text/plain": [
       "<Figure size 432x288 with 1 Axes>"
      ]
     },
     "metadata": {
      "needs_background": "light"
     },
     "output_type": "display_data"
    }
   ],
   "source": [
    "ax = df.groupby(['timestep']).mean()['regret'].expanding().sum().plot(\n",
    "        title='Avg. Regret per Step\\n10K Simulations, 30 Random Runs, delayed tree expansion=10', xlabel='Step', ylabel='Avg. Reward', label='U=1')\n",
    "df_2.groupby(['timestep']).mean()['regret'].expanding().sum().plot(ax=ax, label='U=1,d=5')\n",
    "df_3.groupby(['timestep']).mean()['regret'].expanding().sum().plot(ax=ax, label='U=1,d=50,Sim=1K')\n",
    "df_4.groupby(['timestep']).mean()['regret'].expanding().sum().plot(ax=ax, label='U=1,d=100,Sim=1K')\n",
    "df_5.groupby(['timestep']).mean()['regret'].expanding().sum().plot(ax=ax, label='U=1,d=50,SIm=100')\n",
    "\n",
    "df_6.groupby(['timestep']).mean()['regret'].expanding().sum().plot(ax=ax, label='U=1,d=300,Sim=50')\n",
    "df_7.groupby(['timestep']).mean()['regret'].expanding().sum().plot(ax=ax, label='U=1,d=200,Sim=100')\n",
    "df_8.groupby(['timestep']).mean()['regret'].expanding().sum().plot(ax=ax, label='U=1,d=500,Sim=1K')\n",
    "\n",
    "ax.legend()\n",
    "plt.show()"
   ]
  },
  {
   "cell_type": "markdown",
   "id": "a7cfe552",
   "metadata": {},
   "source": [
    "# Trying to compare with Sveta's"
   ]
  },
  {
   "cell_type": "code",
   "execution_count": 7,
   "id": "f86a6438",
   "metadata": {},
   "outputs": [],
   "source": [
    "#only for KG and MCCH\n",
    "def plot_cum_reg_and_arms (df_KG, df_MCCH, horizon, runs, mus, labels = ('MCCH', 'KG')):\n",
    "    cregret_kg = []\n",
    "    cregret_mcch = []\n",
    "    cregret_kg_mean = []\n",
    "    cregret_mcch_meam = []\n",
    "    arms_kg = []\n",
    "    arms_mcch = []\n",
    "    \n",
    "    for i in range(runs):\n",
    "        temp_row_kg = []\n",
    "        temp_row_mcch = []\n",
    "        \n",
    "        \n",
    "        run_i_kg =  df_KG.loc[df_KG['run'] == i]\n",
    "        run_i_mcch = df_MCCH.loc[df_MCCH['run'] == i]\n",
    "        \n",
    "        run_i_arm_count_kg = list(run_i_kg['arm'].value_counts().reindex(df_KG.arm.unique(), fill_value = 0).sort_index())\n",
    "        run_i_arm_count_mcch = list(run_i_mcch['arm'].value_counts().reindex(df_MCCH.arm.unique(), fill_value = 0).sort_index())\n",
    "        \n",
    "        last_saved_iter_kg = run_i_kg.loc[run_i_kg['iter'] != (horizon -1)]['iter'].max()\n",
    "        last_saved_iter_mcch = run_i_mcch.loc[run_i_mcch['iter'] != (horizon -1)]['iter'].max()\n",
    "        \n",
    "        \n",
    "        run_i_cregret_kg = list(run_i_kg['regret'])\n",
    "        run_i_cregret_mcch = list(run_i_mcch['regret'])\n",
    "        \n",
    "        \n",
    "        runi_chosen_arm_kg = int(run_i_kg.loc[run_i_kg['iter']==(horizon-1)].arm)\n",
    "        runi_chosen_arm_mcch = int(run_i_mcch.loc[run_i_mcch['iter']==(horizon-1)].arm)\n",
    "        \n",
    "        run_i_arm_count_kg[runi_chosen_arm_kg] = horizon - sum(run_i_arm_count_kg) + run_i_arm_count_kg[runi_chosen_arm_kg]\n",
    "        run_i_arm_count_mcch[runi_chosen_arm_mcch] = horizon - sum(run_i_arm_count_mcch) + run_i_arm_count_mcch[runi_chosen_arm_mcch]\n",
    "        \n",
    "        arms_kg.append(run_i_arm_count_kg)\n",
    "        arms_mcch.append(run_i_arm_count_mcch)\n",
    "    \n",
    "        \n",
    "        complete_kg = np.linspace(run_i_cregret_kg[-2], run_i_cregret_kg[-1], (horizon - last_saved_iter_kg))\n",
    "        complete_mcch = np.linspace(run_i_cregret_mcch[-2], run_i_cregret_mcch[-1], (horizon - last_saved_iter_mcch))\n",
    "        \n",
    "        cregret_kg_full = np.append(run_i_cregret_kg[:last_saved_iter_kg], complete_kg)\n",
    "        cregret_mcch_full = np.append(run_i_cregret_mcch[:last_saved_iter_mcch], complete_mcch)\n",
    "        \n",
    "        cregret_kg.append(cregret_kg_full)\n",
    "        cregret_mcch.append(cregret_mcch_full)\n",
    "\n",
    "        \n",
    "    \n",
    "    cregret_kg_tran = np.array(cregret_kg).transpose()\n",
    "    cregret_mcch_tran = np.array(cregret_mcch).transpose()\n",
    "    \n",
    "    \n",
    "    sem_cregret_kg = []\n",
    "    sem_cregret_mcch = []\n",
    "    \n",
    "    \n",
    "    for kg_item, mcch_item in zip(cregret_kg_tran, cregret_mcch_tran):\n",
    "        cregret_kg_mean.append(kg_item.mean()) \n",
    "        cregret_mcch_meam.append(mcch_item.mean())\n",
    "        sem_cregret_kg.append(stats.sem(kg_item))\n",
    "        sem_cregret_mcch.append(stats.sem(mcch_item))\n",
    "    \n",
    "    print()\n",
    "    np_cregret_kg_mean = np.array(cregret_kg_mean)\n",
    "    np_cregret_mcch_mean = np.array(cregret_mcch_meam)\n",
    "    \n",
    "    np_sem_cregret_kg = np.array(sem_cregret_kg)\n",
    "    np_sem_cregret_mcch = np.array(sem_cregret_mcch)\n",
    "    \n",
    "\n",
    "    arms_avg_kg = list(np.mean(arms_kg, axis=0))\n",
    "    arms_avg_mcch = list(np.mean(arms_mcch, axis=0))\n",
    "\n",
    "    print(arms_avg_kg)\n",
    "    \n",
    "\n",
    "    print(\"kg:\", arms_avg_kg)\n",
    "    print(\"mcch:\", arms_avg_mcch)\n",
    "\n",
    "    \n",
    "    #===================PLOTs====================\n",
    "    rng = np.arange(horizon)\n",
    "    \n",
    "    fig = plt.figure(figsize=(12,6))\n",
    "    grid = plt.GridSpec(1,2)\n",
    "    cregret_plot = fig.add_subplot(grid[0,0])\n",
    "    arms_hist = fig.add_subplot(grid[0,1])\n",
    "    \n",
    "    cregret_plot.plot(rng, cregret_mcch_meam, label =labels[0])\n",
    "    cregret_plot.plot(rng, cregret_kg_mean, label = labels[1])\n",
    "    \n",
    "    cregret_plot.fill_between(rng, np_cregret_mcch_mean + np_sem_cregret_mcch, np_cregret_mcch_mean - np_sem_cregret_mcch, alpha=0.1)\n",
    "    cregret_plot.fill_between(rng, np_cregret_kg_mean + np_sem_cregret_kg, np_cregret_kg_mean - np_sem_cregret_kg, alpha=0.1)\n",
    "\n",
    "    cregret_plot.set_title('Cumulative Regret')\n",
    "    cregret_plot.set_xlabel('time steps')\n",
    "    cregret_plot.set_ylabel('average cumulative regret')\n",
    "    cregret_plot.legend()   #plt.legend()\n",
    "\n",
    "    \n",
    "    arms_np = np.arange(len(arms_avg_kg))\n",
    "    print(arms_np)\n",
    "    width = 0.35 \n",
    "\n",
    "    arms_hist.bar(arms_np+width/2, arms_avg_mcch, width = 0.35,  label=\"chosen arms\")\n",
    "    arms_hist.bar(arms_np-width/2, arms_avg_kg, width = 0.35, label=\"chosen arms\")\n",
    "    arms_hist.set_xticks(arms_np)\n",
    "    arms_hist.set_ylabel(\"average number of arms\")\n",
    "\n",
    "\n",
    "    arms_hist.set_title('Average Chosen Actions (arms)')\n",
    "    \n",
    "    plt.savefig('testplot.png')"
   ]
  },
  {
   "cell_type": "code",
   "execution_count": 8,
   "id": "5b89b4f1",
   "metadata": {},
   "outputs": [],
   "source": [
    "res = pd.read_csv(\"./svetas/500iter_runs_alpha01_2arms_02_08_results_2021_12_05-11_38_24.csv\")\n",
    "res_sum = pd.read_csv(\"./svetas/500iter_runs_alpha01_2arms_02_08_summary_2021_12_05-11_38_24.csv\")"
   ]
  },
  {
   "cell_type": "code",
   "execution_count": 9,
   "id": "230c2ee5",
   "metadata": {},
   "outputs": [],
   "source": [
    "KG_res = res.loc[(res ['policy'] == 'knowledgeGradientPolicy')]\n",
    "MCCH_res = res.loc[(res['policy'] == 'MCCH')]"
   ]
  },
  {
   "cell_type": "code",
   "execution_count": 10,
   "id": "0c7e0336",
   "metadata": {
    "scrolled": false
   },
   "outputs": [
    {
     "name": "stdout",
     "output_type": "stream",
     "text": [
      "\n",
      "[51.3, 448.7]\n",
      "kg: [51.3, 448.7]\n",
      "mcch: [2.25, 497.75]\n",
      "[0 1]\n"
     ]
    },
    {
     "data": {
      "image/png": "[encoded data removed]",
      "text/plain": [
       "<Figure size 864x432 with 2 Axes>"
      ]
     },
     "metadata": {
      "needs_background": "light"
     },
     "output_type": "display_data"
    }
   ],
   "source": [
    "plot_cum_reg_and_arms(KG_res, MCCH_res, 500, 20, '[0.2, 0.8]')"
   ]
  },
  {
   "cell_type": "code",
   "execution_count": 11,
   "id": "ebb1f1cb",
   "metadata": {},
   "outputs": [
    {
     "data": {
      "text/html": [
       "<div>\n",
       "<style scoped>\n",
       "    .dataframe tbody tr th:only-of-type {\n",
       "        vertical-align: middle;\n",
       "    }\n",
       "\n",
       "    .dataframe tbody tr th {\n",
       "        vertical-align: top;\n",
       "    }\n",
       "\n",
       "    .dataframe thead th {\n",
       "        text-align: right;\n",
       "    }\n",
       "</style>\n",
       "<table border=\"1\" class=\"dataframe\">\n",
       "  <thead>\n",
       "    <tr style=\"text-align: right;\">\n",
       "      <th></th>\n",
       "      <th>run</th>\n",
       "      <th>iter</th>\n",
       "      <th>policy</th>\n",
       "      <th>mus</th>\n",
       "      <th>init_cost</th>\n",
       "      <th>increase_by</th>\n",
       "      <th>horizon</th>\n",
       "      <th>regret</th>\n",
       "      <th>arm</th>\n",
       "      <th>query_history</th>\n",
       "      <th>last_query_step</th>\n",
       "      <th>cum_number_of_queries</th>\n",
       "    </tr>\n",
       "  </thead>\n",
       "  <tbody>\n",
       "    <tr>\n",
       "      <th>280</th>\n",
       "      <td>0</td>\n",
       "      <td>0</td>\n",
       "      <td>MCCH</td>\n",
       "      <td>[0.2, 0.8]</td>\n",
       "      <td>1</td>\n",
       "      <td>2</td>\n",
       "      <td>500</td>\n",
       "      <td>1.6</td>\n",
       "      <td>0</td>\n",
       "      <td>1</td>\n",
       "      <td>0</td>\n",
       "      <td>1</td>\n",
       "    </tr>\n",
       "    <tr>\n",
       "      <th>281</th>\n",
       "      <td>0</td>\n",
       "      <td>1</td>\n",
       "      <td>MCCH</td>\n",
       "      <td>[0.2, 0.8]</td>\n",
       "      <td>1</td>\n",
       "      <td>2</td>\n",
       "      <td>500</td>\n",
       "      <td>3.6</td>\n",
       "      <td>1</td>\n",
       "      <td>1</td>\n",
       "      <td>1</td>\n",
       "      <td>2</td>\n",
       "    </tr>\n",
       "    <tr>\n",
       "      <th>282</th>\n",
       "      <td>0</td>\n",
       "      <td>2</td>\n",
       "      <td>MCCH</td>\n",
       "      <td>[0.2, 0.8]</td>\n",
       "      <td>1</td>\n",
       "      <td>2</td>\n",
       "      <td>500</td>\n",
       "      <td>3.6</td>\n",
       "      <td>1</td>\n",
       "      <td>0</td>\n",
       "      <td>1</td>\n",
       "      <td>2</td>\n",
       "    </tr>\n",
       "    <tr>\n",
       "      <th>283</th>\n",
       "      <td>0</td>\n",
       "      <td>3</td>\n",
       "      <td>MCCH</td>\n",
       "      <td>[0.2, 0.8]</td>\n",
       "      <td>1</td>\n",
       "      <td>2</td>\n",
       "      <td>500</td>\n",
       "      <td>4.6</td>\n",
       "      <td>1</td>\n",
       "      <td>1</td>\n",
       "      <td>3</td>\n",
       "      <td>3</td>\n",
       "    </tr>\n",
       "    <tr>\n",
       "      <th>284</th>\n",
       "      <td>0</td>\n",
       "      <td>4</td>\n",
       "      <td>MCCH</td>\n",
       "      <td>[0.2, 0.8]</td>\n",
       "      <td>1</td>\n",
       "      <td>2</td>\n",
       "      <td>500</td>\n",
       "      <td>4.6</td>\n",
       "      <td>1</td>\n",
       "      <td>0</td>\n",
       "      <td>3</td>\n",
       "      <td>3</td>\n",
       "    </tr>\n",
       "    <tr>\n",
       "      <th>...</th>\n",
       "      <td>...</td>\n",
       "      <td>...</td>\n",
       "      <td>...</td>\n",
       "      <td>...</td>\n",
       "      <td>...</td>\n",
       "      <td>...</td>\n",
       "      <td>...</td>\n",
       "      <td>...</td>\n",
       "      <td>...</td>\n",
       "      <td>...</td>\n",
       "      <td>...</td>\n",
       "      <td>...</td>\n",
       "    </tr>\n",
       "    <tr>\n",
       "      <th>617</th>\n",
       "      <td>19</td>\n",
       "      <td>14</td>\n",
       "      <td>MCCH</td>\n",
       "      <td>[0.2, 0.8]</td>\n",
       "      <td>1</td>\n",
       "      <td>2</td>\n",
       "      <td>500</td>\n",
       "      <td>17.4</td>\n",
       "      <td>1</td>\n",
       "      <td>0</td>\n",
       "      <td>7</td>\n",
       "      <td>6</td>\n",
       "    </tr>\n",
       "    <tr>\n",
       "      <th>618</th>\n",
       "      <td>19</td>\n",
       "      <td>15</td>\n",
       "      <td>MCCH</td>\n",
       "      <td>[0.2, 0.8]</td>\n",
       "      <td>1</td>\n",
       "      <td>2</td>\n",
       "      <td>500</td>\n",
       "      <td>17.4</td>\n",
       "      <td>1</td>\n",
       "      <td>0</td>\n",
       "      <td>7</td>\n",
       "      <td>6</td>\n",
       "    </tr>\n",
       "    <tr>\n",
       "      <th>619</th>\n",
       "      <td>19</td>\n",
       "      <td>16</td>\n",
       "      <td>MCCH</td>\n",
       "      <td>[0.2, 0.8]</td>\n",
       "      <td>1</td>\n",
       "      <td>2</td>\n",
       "      <td>500</td>\n",
       "      <td>17.4</td>\n",
       "      <td>1</td>\n",
       "      <td>0</td>\n",
       "      <td>7</td>\n",
       "      <td>6</td>\n",
       "    </tr>\n",
       "    <tr>\n",
       "      <th>620</th>\n",
       "      <td>19</td>\n",
       "      <td>17</td>\n",
       "      <td>MCCH</td>\n",
       "      <td>[0.2, 0.8]</td>\n",
       "      <td>1</td>\n",
       "      <td>2</td>\n",
       "      <td>500</td>\n",
       "      <td>17.4</td>\n",
       "      <td>1</td>\n",
       "      <td>0</td>\n",
       "      <td>7</td>\n",
       "      <td>6</td>\n",
       "    </tr>\n",
       "    <tr>\n",
       "      <th>621</th>\n",
       "      <td>19</td>\n",
       "      <td>499</td>\n",
       "      <td>MCCH</td>\n",
       "      <td>[0.2, 0.8]</td>\n",
       "      <td>1</td>\n",
       "      <td>2</td>\n",
       "      <td>500</td>\n",
       "      <td>17.4</td>\n",
       "      <td>1</td>\n",
       "      <td>0</td>\n",
       "      <td>7</td>\n",
       "      <td>6</td>\n",
       "    </tr>\n",
       "  </tbody>\n",
       "</table>\n",
       "<p>342 rows × 12 columns</p>\n",
       "</div>"
      ],
      "text/plain": [
       "     run  iter policy         mus  init_cost  increase_by  horizon  regret  \\\n",
       "280    0     0   MCCH  [0.2, 0.8]          1            2      500     1.6   \n",
       "281    0     1   MCCH  [0.2, 0.8]          1            2      500     3.6   \n",
       "282    0     2   MCCH  [0.2, 0.8]          1            2      500     3.6   \n",
       "283    0     3   MCCH  [0.2, 0.8]          1            2      500     4.6   \n",
       "284    0     4   MCCH  [0.2, 0.8]          1            2      500     4.6   \n",
       "..   ...   ...    ...         ...        ...          ...      ...     ...   \n",
       "617   19    14   MCCH  [0.2, 0.8]          1            2      500    17.4   \n",
       "618   19    15   MCCH  [0.2, 0.8]          1            2      500    17.4   \n",
       "619   19    16   MCCH  [0.2, 0.8]          1            2      500    17.4   \n",
       "620   19    17   MCCH  [0.2, 0.8]          1            2      500    17.4   \n",
       "621   19   499   MCCH  [0.2, 0.8]          1            2      500    17.4   \n",
       "\n",
       "     arm  query_history  last_query_step  cum_number_of_queries  \n",
       "280    0              1                0                      1  \n",
       "281    1              1                1                      2  \n",
       "282    1              0                1                      2  \n",
       "283    1              1                3                      3  \n",
       "284    1              0                3                      3  \n",
       "..   ...            ...              ...                    ...  \n",
       "617    1              0                7                      6  \n",
       "618    1              0                7                      6  \n",
       "619    1              0                7                      6  \n",
       "620    1              0                7                      6  \n",
       "621    1              0                7                      6  \n",
       "\n",
       "[342 rows x 12 columns]"
      ]
     },
     "execution_count": 11,
     "metadata": {},
     "output_type": "execute_result"
    }
   ],
   "source": [
    "MCCH_res"
   ]
  },
  {
   "cell_type": "code",
   "execution_count": 12,
   "id": "f1ea8aaa",
   "metadata": {},
   "outputs": [
    {
     "name": "stdout",
     "output_type": "stream",
     "text": [
      "29\n",
      "20\n"
     ]
    }
   ],
   "source": [
    "keep_iters = MCCH_res.iter.unique().tolist()\n",
    "keep_runs = MCCH_res.run.unique().tolist()\n",
    "print(len(keep_iters))\n",
    "print(len(keep_runs))"
   ]
  },
  {
   "cell_type": "code",
   "execution_count": 13,
   "id": "03550dd0",
   "metadata": {},
   "outputs": [
    {
     "data": {
      "text/html": [
       "<div>\n",
       "<style scoped>\n",
       "    .dataframe tbody tr th:only-of-type {\n",
       "        vertical-align: middle;\n",
       "    }\n",
       "\n",
       "    .dataframe tbody tr th {\n",
       "        vertical-align: top;\n",
       "    }\n",
       "\n",
       "    .dataframe thead th {\n",
       "        text-align: right;\n",
       "    }\n",
       "</style>\n",
       "<table border=\"1\" class=\"dataframe\">\n",
       "  <thead>\n",
       "    <tr style=\"text-align: right;\">\n",
       "      <th></th>\n",
       "      <th>run</th>\n",
       "      <th>iter</th>\n",
       "      <th>mus</th>\n",
       "      <th>base_query_cost</th>\n",
       "      <th>query_cost</th>\n",
       "      <th>horizon</th>\n",
       "      <th>regret</th>\n",
       "      <th>arm</th>\n",
       "      <th>query_ind</th>\n",
       "      <th>reward</th>\n",
       "      <th>seed</th>\n",
       "    </tr>\n",
       "  </thead>\n",
       "  <tbody>\n",
       "    <tr>\n",
       "      <th>0</th>\n",
       "      <td>12</td>\n",
       "      <td>0</td>\n",
       "      <td>(0.2, 0.8)</td>\n",
       "      <td>1</td>\n",
       "      <td>1.0</td>\n",
       "      <td>500</td>\n",
       "      <td>-0.2</td>\n",
       "      <td>1</td>\n",
       "      <td>0</td>\n",
       "      <td>1</td>\n",
       "      <td>12</td>\n",
       "    </tr>\n",
       "    <tr>\n",
       "      <th>1</th>\n",
       "      <td>15</td>\n",
       "      <td>0</td>\n",
       "      <td>(0.2, 0.8)</td>\n",
       "      <td>1</td>\n",
       "      <td>1.0</td>\n",
       "      <td>500</td>\n",
       "      <td>0.8</td>\n",
       "      <td>1</td>\n",
       "      <td>0</td>\n",
       "      <td>0</td>\n",
       "      <td>15</td>\n",
       "    </tr>\n",
       "    <tr>\n",
       "      <th>2</th>\n",
       "      <td>14</td>\n",
       "      <td>0</td>\n",
       "      <td>(0.2, 0.8)</td>\n",
       "      <td>1</td>\n",
       "      <td>1.0</td>\n",
       "      <td>500</td>\n",
       "      <td>-0.2</td>\n",
       "      <td>1</td>\n",
       "      <td>0</td>\n",
       "      <td>1</td>\n",
       "      <td>14</td>\n",
       "    </tr>\n",
       "    <tr>\n",
       "      <th>4</th>\n",
       "      <td>4</td>\n",
       "      <td>0</td>\n",
       "      <td>(0.2, 0.8)</td>\n",
       "      <td>1</td>\n",
       "      <td>1.0</td>\n",
       "      <td>500</td>\n",
       "      <td>0.8</td>\n",
       "      <td>0</td>\n",
       "      <td>0</td>\n",
       "      <td>0</td>\n",
       "      <td>4</td>\n",
       "    </tr>\n",
       "    <tr>\n",
       "      <th>5</th>\n",
       "      <td>2</td>\n",
       "      <td>0</td>\n",
       "      <td>(0.2, 0.8)</td>\n",
       "      <td>1</td>\n",
       "      <td>1.0</td>\n",
       "      <td>500</td>\n",
       "      <td>-0.2</td>\n",
       "      <td>1</td>\n",
       "      <td>0</td>\n",
       "      <td>1</td>\n",
       "      <td>2</td>\n",
       "    </tr>\n",
       "    <tr>\n",
       "      <th>...</th>\n",
       "      <td>...</td>\n",
       "      <td>...</td>\n",
       "      <td>...</td>\n",
       "      <td>...</td>\n",
       "      <td>...</td>\n",
       "      <td>...</td>\n",
       "      <td>...</td>\n",
       "      <td>...</td>\n",
       "      <td>...</td>\n",
       "      <td>...</td>\n",
       "      <td>...</td>\n",
       "    </tr>\n",
       "    <tr>\n",
       "      <th>15640</th>\n",
       "      <td>18</td>\n",
       "      <td>499</td>\n",
       "      <td>(0.2, 0.8)</td>\n",
       "      <td>1</td>\n",
       "      <td>1.0</td>\n",
       "      <td>500</td>\n",
       "      <td>298.0</td>\n",
       "      <td>0</td>\n",
       "      <td>0</td>\n",
       "      <td>0</td>\n",
       "      <td>18</td>\n",
       "    </tr>\n",
       "    <tr>\n",
       "      <th>15678</th>\n",
       "      <td>8</td>\n",
       "      <td>499</td>\n",
       "      <td>(0.2, 0.8)</td>\n",
       "      <td>1</td>\n",
       "      <td>1.0</td>\n",
       "      <td>500</td>\n",
       "      <td>309.0</td>\n",
       "      <td>0</td>\n",
       "      <td>0</td>\n",
       "      <td>0</td>\n",
       "      <td>8</td>\n",
       "    </tr>\n",
       "    <tr>\n",
       "      <th>15743</th>\n",
       "      <td>5</td>\n",
       "      <td>499</td>\n",
       "      <td>(0.2, 0.8)</td>\n",
       "      <td>1</td>\n",
       "      <td>1.0</td>\n",
       "      <td>500</td>\n",
       "      <td>307.0</td>\n",
       "      <td>0</td>\n",
       "      <td>0</td>\n",
       "      <td>0</td>\n",
       "      <td>5</td>\n",
       "    </tr>\n",
       "    <tr>\n",
       "      <th>15751</th>\n",
       "      <td>12</td>\n",
       "      <td>499</td>\n",
       "      <td>(0.2, 0.8)</td>\n",
       "      <td>1</td>\n",
       "      <td>1.0</td>\n",
       "      <td>500</td>\n",
       "      <td>287.0</td>\n",
       "      <td>0</td>\n",
       "      <td>0</td>\n",
       "      <td>0</td>\n",
       "      <td>12</td>\n",
       "    </tr>\n",
       "    <tr>\n",
       "      <th>15816</th>\n",
       "      <td>9</td>\n",
       "      <td>499</td>\n",
       "      <td>(0.2, 0.8)</td>\n",
       "      <td>1</td>\n",
       "      <td>1.0</td>\n",
       "      <td>500</td>\n",
       "      <td>260.0</td>\n",
       "      <td>0</td>\n",
       "      <td>0</td>\n",
       "      <td>0</td>\n",
       "      <td>9</td>\n",
       "    </tr>\n",
       "  </tbody>\n",
       "</table>\n",
       "<p>580 rows × 11 columns</p>\n",
       "</div>"
      ],
      "text/plain": [
       "       run  iter         mus  base_query_cost  query_cost  horizon  regret  \\\n",
       "0       12     0  (0.2, 0.8)                1         1.0      500    -0.2   \n",
       "1       15     0  (0.2, 0.8)                1         1.0      500     0.8   \n",
       "2       14     0  (0.2, 0.8)                1         1.0      500    -0.2   \n",
       "4        4     0  (0.2, 0.8)                1         1.0      500     0.8   \n",
       "5        2     0  (0.2, 0.8)                1         1.0      500    -0.2   \n",
       "...    ...   ...         ...              ...         ...      ...     ...   \n",
       "15640   18   499  (0.2, 0.8)                1         1.0      500   298.0   \n",
       "15678    8   499  (0.2, 0.8)                1         1.0      500   309.0   \n",
       "15743    5   499  (0.2, 0.8)                1         1.0      500   307.0   \n",
       "15751   12   499  (0.2, 0.8)                1         1.0      500   287.0   \n",
       "15816    9   499  (0.2, 0.8)                1         1.0      500   260.0   \n",
       "\n",
       "       arm  query_ind  reward  seed  \n",
       "0        1          0       1    12  \n",
       "1        1          0       0    15  \n",
       "2        1          0       1    14  \n",
       "4        0          0       0     4  \n",
       "5        1          0       1     2  \n",
       "...    ...        ...     ...   ...  \n",
       "15640    0          0       0    18  \n",
       "15678    0          0       0     8  \n",
       "15743    0          0       0     5  \n",
       "15751    0          0       0    12  \n",
       "15816    0          0       0     9  \n",
       "\n",
       "[580 rows x 11 columns]"
      ]
     },
     "execution_count": 13,
     "metadata": {},
     "output_type": "execute_result"
    }
   ],
   "source": [
    "BAMCPP_res = df_1k_sim_1_exp_20_tree.rename(columns={'chosen_arm': 'arm', 'timestep': 'iter'})\n",
    "BAMCPP_res = BAMCPP_res[BAMCPP_res.run.isin(keep_runs)]\n",
    "BAMCPP_res = BAMCPP_res[BAMCPP_res.iter.isin(keep_iters)]\n",
    "BAMCPP_res"
   ]
  },
  {
   "cell_type": "code",
   "execution_count": 14,
   "id": "45d40326",
   "metadata": {},
   "outputs": [
    {
     "name": "stdout",
     "output_type": "stream",
     "text": [
      "29\n",
      "20\n"
     ]
    }
   ],
   "source": [
    "print(len(BAMCPP_res.iter.unique().tolist()))\n",
    "print(len(BAMCPP_res.run.unique().tolist()))"
   ]
  },
  {
   "cell_type": "code",
   "execution_count": 15,
   "id": "50552f27",
   "metadata": {},
   "outputs": [
    {
     "name": "stdout",
     "output_type": "stream",
     "text": [
      "\n",
      "[373.9, 126.1]\n",
      "kg: [373.9, 126.1]\n",
      "mcch: [2.25, 497.75]\n",
      "[0 1]\n"
     ]
    },
    {
     "data": {
      "image/png": "[encoded data removed]",
      "text/plain": [
       "<Figure size 864x432 with 2 Axes>"
      ]
     },
     "metadata": {
      "needs_background": "light"
     },
     "output_type": "display_data"
    }
   ],
   "source": [
    "plot_cum_reg_and_arms(BAMCPP_res, MCCH_res, 500, 20, '[0.2, 0.8]', labels=('MCCH', 'BAMCPP'))"
   ]
  },
  {
   "cell_type": "code",
   "execution_count": 28,
   "id": "4699a8df",
   "metadata": {},
   "outputs": [
    {
     "name": "stdout",
     "output_type": "stream",
     "text": [
      "\n",
      "[202.55, 297.45]\n",
      "kg: [202.55, 297.45]\n",
      "mcch: [51.3, 448.7]\n",
      "[0 1]\n"
     ]
    },
    {
     "data": {
      "image/png": "[encoded data removed]",
      "text/plain": [
       "<Figure size 864x432 with 2 Axes>"
      ]
     },
     "metadata": {
      "needs_background": "light"
     },
     "output_type": "display_data"
    }
   ],
   "source": [
    "plot_cum_reg_and_arms(BAMCPP_res, KG_res, 500, 20, '[0.2, 0.8]', labels=('KG', 'BAMCPP'))"
   ]
  },
  {
   "cell_type": "code",
   "execution_count": null,
   "id": "b4ed3e4b",
   "metadata": {},
   "outputs": [],
   "source": []
  }
 ],
 "metadata": {
  "kernelspec": {
   "display_name": "Python 3 (ipykernel)",
   "language": "python",
   "name": "python3"
  },
  "language_info": {
   "codemirror_mode": {
    "name": "ipython",
    "version": 3
   },
   "file_extension": ".py",
   "mimetype": "text/x-python",
   "name": "python",
   "nbconvert_exporter": "python",
   "pygments_lexer": "ipython3",
   "version": "3.9.7"
  }
 },
 "nbformat": 4,
 "nbformat_minor": 5
}
